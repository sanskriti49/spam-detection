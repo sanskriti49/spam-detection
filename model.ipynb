{
  "nbformat": 4,
  "nbformat_minor": 0,
  "metadata": {
    "colab": {
      "provenance": [],
      "authorship_tag": "ABX9TyOdIKAFeimx2uhInnBs5g61",
      "include_colab_link": true
    },
    "kernelspec": {
      "name": "python3",
      "display_name": "Python 3"
    },
    "language_info": {
      "name": "python"
    }
  },
  "cells": [
    {
      "cell_type": "markdown",
      "metadata": {
        "id": "view-in-github",
        "colab_type": "text"
      },
      "source": [
        "<a href=\"https://colab.research.google.com/github/sanskriti49/spam-detection/blob/main/model.ipynb\" target=\"_parent\"><img src=\"https://colab.research.google.com/assets/colab-badge.svg\" alt=\"Open In Colab\"/></a>"
      ]
    },
    {
      "cell_type": "code",
      "execution_count": 176,
      "metadata": {
        "colab": {
          "base_uri": "https://localhost:8080/"
        },
        "id": "eT6HXk7LJ-2Z",
        "outputId": "8bc9e15a-dae3-4542-99b7-2bef17cd1736"
      },
      "outputs": [
        {
          "output_type": "stream",
          "name": "stderr",
          "text": [
            "[nltk_data] Downloading package stopwords to /root/nltk_data...\n",
            "[nltk_data]   Package stopwords is already up-to-date!\n"
          ]
        },
        {
          "output_type": "execute_result",
          "data": {
            "text/plain": [
              "True"
            ]
          },
          "metadata": {},
          "execution_count": 176
        }
      ],
      "source": [
        "# importing libraries\n",
        "import numpy as py\n",
        "import pandas as pd\n",
        "from sklearn.metrics import classification_report,confusion_matrix,accuracy_score\n",
        "import matplotlib.pyplot as plt\n",
        "import seaborn as sns\n",
        "import re\n",
        "import nltk\n",
        "from nltk.corpus import stopwords\n",
        "from nltk.stem.porter import PorterStemmer\n",
        "\n",
        "nltk.download('stopwords')"
      ]
    },
    {
      "cell_type": "markdown",
      "source": [
        "## Importing Dataset"
      ],
      "metadata": {
        "id": "JTzQ5nUrK5Pu"
      }
    },
    {
      "cell_type": "code",
      "source": [
        "url=\"https://raw.githubusercontent.com/sanskriti49/spam-detection/main/spam.csv\"\n",
        "df=pd.read_csv(url, encoding=\"ISO-8859-1\")\n",
        "print(df.head())"
      ],
      "metadata": {
        "colab": {
          "base_uri": "https://localhost:8080/"
        },
        "id": "Q14mXDpEK9MW",
        "outputId": "c33e79c8-6cf4-4702-f4f1-28a146efe1d1"
      },
      "execution_count": 177,
      "outputs": [
        {
          "output_type": "stream",
          "name": "stdout",
          "text": [
            "     v1                                                 v2 Unnamed: 2  \\\n",
            "0   ham  Go until jurong point, crazy.. Available only ...        NaN   \n",
            "1   ham                      Ok lar... Joking wif u oni...        NaN   \n",
            "2  spam  Free entry in 2 a wkly comp to win FA Cup fina...        NaN   \n",
            "3   ham  U dun say so early hor... U c already then say...        NaN   \n",
            "4   ham  Nah I don't think he goes to usf, he lives aro...        NaN   \n",
            "\n",
            "  Unnamed: 3 Unnamed: 4  \n",
            "0        NaN        NaN  \n",
            "1        NaN        NaN  \n",
            "2        NaN        NaN  \n",
            "3        NaN        NaN  \n",
            "4        NaN        NaN  \n"
          ]
        }
      ]
    },
    {
      "cell_type": "markdown",
      "source": [
        "## Label Encoding"
      ],
      "metadata": {
        "id": "iDP-akrgSwAr"
      }
    },
    {
      "cell_type": "code",
      "source": [
        "df = df[['v1', 'v2']]\n",
        "df = df.rename(columns={'v1': 'label', 'v2': 'message'})\n",
        "\n",
        "# encode the labels: 'ham' means 0 , 'spam' means 1\n",
        "df['label']=df['label'].map({'ham':0, 'spam':1})\n",
        "\n",
        "x=df['message']\n",
        "y=df['label']\n",
        "\n",
        "y = y.fillna(y.median())\n",
        "y = pd.to_numeric(y,errors='coerce')\n",
        "\n"
      ],
      "metadata": {
        "id": "F6tInAQVSyeH"
      },
      "execution_count": 178,
      "outputs": []
    },
    {
      "cell_type": "markdown",
      "source": [
        "## Data Pre-processing"
      ],
      "metadata": {
        "id": "3BlPfsuJTzyW"
      }
    },
    {
      "cell_type": "code",
      "source": [
        "ps=PorterStemmer()\n",
        "corpus=[]\n",
        "\n",
        "for i in range(0,len(x)):\n",
        "  email=re.sub('[^a-zA-Z]',' ',str(x.iloc[i]))\n",
        "  email=email.lower()\n",
        "  email=email.split(' ')\n",
        "\n",
        "  email=[ps.stem(word) for word in email if word not in stopwords.words('english')]\n",
        "  email=' '.join(email)\n",
        "  corpus.append(email)\n",
        "\n"
      ],
      "metadata": {
        "id": "CKOQjAaPT2c_"
      },
      "execution_count": 179,
      "outputs": []
    },
    {
      "cell_type": "markdown",
      "source": [
        "## Data transformation"
      ],
      "metadata": {
        "id": "WTsouXu8YEoJ"
      }
    },
    {
      "cell_type": "code",
      "source": [
        "# CountVectorizer matrix\n",
        "from sklearn.feature_extraction.text import CountVectorizer\n",
        "cv=CountVectorizer(max_features=5000)\n",
        "x=cv.fit_transform(corpus).toarray()"
      ],
      "metadata": {
        "id": "y30Fd-fGYIOn"
      },
      "execution_count": 180,
      "outputs": []
    },
    {
      "cell_type": "markdown",
      "source": [
        "## Train-Test split"
      ],
      "metadata": {
        "id": "6SSw61HQYcch"
      }
    },
    {
      "cell_type": "code",
      "source": [
        "from sklearn.model_selection import train_test_split\n",
        "x_train, x_test, y_train, y_test=train_test_split(x,y,test_size=0.25,random_state=0)\n"
      ],
      "metadata": {
        "id": "p0al30fZYegZ"
      },
      "execution_count": 181,
      "outputs": []
    },
    {
      "cell_type": "code",
      "source": [
        "# applying MultiNomialNB model\n",
        "from sklearn.naive_bayes import MultinomialNB\n",
        "classifier=MultinomialNB().fit(x_train, y_train)"
      ],
      "metadata": {
        "id": "ZCH_L1OMZBS2"
      },
      "execution_count": 182,
      "outputs": []
    },
    {
      "cell_type": "markdown",
      "source": [
        "## Making predictions and creating a Confusion Matrix"
      ],
      "metadata": {
        "id": "VH6iU-k7ZzsO"
      }
    },
    {
      "cell_type": "code",
      "source": [
        "y_pred=classifier.predict(x_test)\n",
        "\n",
        "# creating confusion matrix\n",
        "# from sklearn.metrics import confusion_matrix\n",
        "confusion_m=confusion_matrix(y_test,y_pred)\n",
        "print(confusion_m)\n",
        "\n",
        "import seaborn as sns\n",
        "import matplotlib.pyplot as plt\n",
        "\n",
        "# Confusion Matrix Heatmap\n",
        "plt.figure(figsize=(6, 4))\n",
        "sns.heatmap(confusion_m, annot=True, fmt='d', cmap='Blues', xticklabels=['Negative', 'Positive'], yticklabels=['Negative', 'Positive'])\n",
        "plt.title('Confusion Matrix Heatmap')\n",
        "plt.xlabel('Predicted')\n",
        "plt.ylabel('Actual')\n",
        "plt.show()"
      ],
      "metadata": {
        "colab": {
          "base_uri": "https://localhost:8080/",
          "height": 446
        },
        "id": "GCf33OkaZ5U3",
        "outputId": "3eeb723d-d5d3-4b3b-f3a3-ee13d8c0c7a1"
      },
      "execution_count": 183,
      "outputs": [
        {
          "output_type": "stream",
          "name": "stdout",
          "text": [
            "[[1179   17]\n",
            " [   7  190]]\n"
          ]
        },
        {
          "output_type": "display_data",
          "data": {
            "text/plain": [
              "<Figure size 600x400 with 2 Axes>"
            ],
            "image/png": "[encoded data removed]"
          },
          "metadata": {}
        }
      ]
    },
    {
      "cell_type": "markdown",
      "source": [
        "## Getting the accuracy"
      ],
      "metadata": {
        "id": "PNAjUvzDaL2s"
      }
    },
    {
      "cell_type": "code",
      "source": [
        "accuracy=accuracy_score(y_test,y_pred)\n",
        "print(accuracy)"
      ],
      "metadata": {
        "colab": {
          "base_uri": "https://localhost:8080/"
        },
        "id": "WdG5tkiZaOvX",
        "outputId": "6d62e7a3-0d7f-4071-ad46-2556d34c868d"
      },
      "execution_count": 184,
      "outputs": [
        {
          "output_type": "stream",
          "name": "stdout",
          "text": [
            "0.9827709978463748\n"
          ]
        }
      ]
    },
    {
      "cell_type": "markdown",
      "source": [
        "## Dumping Models"
      ],
      "metadata": {
        "id": "DFKv47MgawLu"
      }
    },
    {
      "cell_type": "code",
      "source": [
        "import pickle\n",
        "pickle.dump(classifier,open('model.pkl','wb'))\n",
        "pickle.dump(cv,open('cv-model.pkl','wb'))\n",
        "\n",
        "final_df = pd.DataFrame({'Subject': df['message'], 'Label': y})\n",
        "final_df['Label'] = final_df['Label'].map({0: \"Not spam\", 1: \"Spam\"})\n",
        "\n",
        "print(final_df.head())"
      ],
      "metadata": {
        "colab": {
          "base_uri": "https://localhost:8080/"
        },
        "id": "B9Hi7SagayKz",
        "outputId": "6fdc9bd7-3515-464b-f0d4-86fee0bbab75"
      },
      "execution_count": 188,
      "outputs": [
        {
          "output_type": "stream",
          "name": "stdout",
          "text": [
            "                                             Subject     Label\n",
            "0  Go until jurong point, crazy.. Available only ...  Not spam\n",
            "1                      Ok lar... Joking wif u oni...  Not spam\n",
            "2  Free entry in 2 a wkly comp to win FA Cup fina...      Spam\n",
            "3  U dun say so early hor... U c already then say...  Not spam\n",
            "4  Nah I don't think he goes to usf, he lives aro...  Not spam\n"
          ]
        }
      ]
    },
    {
      "cell_type": "markdown",
      "source": [
        "## Pie-chart"
      ],
      "metadata": {
        "id": "szUFYu1g3fuV"
      }
    },
    {
      "cell_type": "code",
      "source": [
        "# Count the occurrences of each label\n",
        "label_counts = final_df['Label'].value_counts()\n",
        "\n",
        "# Plot the pie chart\n",
        "plt.figure(figsize=(7, 7))\n",
        "plt.pie(label_counts, labels=label_counts.index, autopct='%1.1f%%', colors=['lightgreen', 'lightcoral'], startangle=90, explode=(0.1, 0))\n",
        "plt.title('Spam vs Not Spam Distribution')\n",
        "plt.axis('equal')  # Equal aspect ratio ensures that pie chart is drawn as a circle.\n",
        "plt.show()\n"
      ],
      "metadata": {
        "colab": {
          "base_uri": "https://localhost:8080/",
          "height": 598
        },
        "id": "PjNbKVes3O6m",
        "outputId": "2414dbef-d529-4391-d978-9363fd509b58"
      },
      "execution_count": 190,
      "outputs": [
        {
          "output_type": "display_data",
          "data": {
            "text/plain": [
              "<Figure size 700x700 with 1 Axes>"
            ],
            "image/png": "[encoded data removed]"
          },
          "metadata": {}
        }
      ]
    }
  ]
}